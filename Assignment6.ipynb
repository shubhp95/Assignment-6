{
 "cells": [
  {
   "cell_type": "code",
   "execution_count": 2,
   "id": "e34b5b2a",
   "metadata": {},
   "outputs": [
    {
     "name": "stdout",
     "output_type": "stream",
     "text": [
      "Car 1: Toyota Camry (2023)\n",
      "Car 2: Honda Civic (2022)\n",
      "The Toyota Camry is accelerating!\n",
      "The Honda Civic is accelerating!\n"
     ]
    }
   ],
   "source": [
    "#Q1\n",
    "\n",
    "#A class is a blueprint or a template that defines the properties (attributes) and functionalities (methods) \n",
    "#of a specific kind of object.Think of it as a recipe for creating objects.\n",
    "\n",
    "\n",
    "#An object is an instance of a class. It's a concrete entity that holds data specific to that class and can perform \n",
    "#actions defined by the class methods\n",
    "\n",
    "\n",
    "class Car:\n",
    "  \n",
    "  def __init__(self, make, model, year):\n",
    "    self.make = make\n",
    "    self.model = model\n",
    "    self.year = year\n",
    "\n",
    "  def accelerate(self):\n",
    "    print(f\"The {self.make} {self.model} is accelerating!\")\n",
    "\n",
    "car1 = Car(\"Toyota\", \"Camry\", 2023)\n",
    "car2 = Car(\"Honda\", \"Civic\", 2022)\n",
    "\n",
    "\n",
    "print(f\"Car 1: {car1.make} {car1.model} ({car1.year})\")\n",
    "print(f\"Car 2: {car2.make} {car2.model} ({car2.year})\")\n",
    "\n",
    "car1.accelerate()\n",
    "car2.accelerate()\n"
   ]
  },
  {
   "cell_type": "code",
   "execution_count": 3,
   "id": "bc5ce802",
   "metadata": {},
   "outputs": [],
   "source": [
    "#Q2\n",
    "\n",
    "#The four pillars of Object-Oriented Programming (OOP) are:\n",
    "\n",
    "#Abstraction\n",
    "#Encapsulation\n",
    "#Inheritance\n",
    "#Polymorphism"
   ]
  },
  {
   "cell_type": "code",
   "execution_count": 4,
   "id": "11db2ecf",
   "metadata": {},
   "outputs": [],
   "source": [
    "#Q3\n",
    "\n",
    "#The __init__() function, also known as a constructor, is a special method used in Python classes to initialize objects. \n",
    "#It's called automatically whenever you create a new object from a class\n",
    "\n",
    "class Car:\n",
    "  \n",
    "  def __init__(self, make, model, year):\n",
    "    self.make = make\n",
    "    self.model = model\n",
    "    self.year = year"
   ]
  },
  {
   "cell_type": "code",
   "execution_count": 5,
   "id": "1da0b2e0",
   "metadata": {},
   "outputs": [],
   "source": [
    "#Q4\n",
    "\n",
    "#In Object-Oriented Programming (OOP), the self parameter is used within a class's methods to refer\n",
    "#to the current object instance."
   ]
  },
  {
   "cell_type": "code",
   "execution_count": 6,
   "id": "b1343947",
   "metadata": {},
   "outputs": [
    {
     "name": "stdout",
     "output_type": "stream",
     "text": [
      "Generic animal sound\n",
      "Buddy barks! Woof!\n",
      "Tesla Model S is charging!\n",
      "Tesla Model S 2023\n",
      "Doing something from Trait 1\n"
     ]
    }
   ],
   "source": [
    "#Q5\n",
    "\n",
    "#Inheritance in Object-Oriented Programming (OOP) is a mechanism that allows new classes (derived classes) \n",
    "#to inherit properties and behaviors from existing classes (base classes).\n",
    "\n",
    "#There are three main types of inheritance:\n",
    "\n",
    "# 1. Single Inheritance:\n",
    "\n",
    "#In single inheritance, a derived class inherits from only one base class. \n",
    "#This is the simplest and most common form of inheritance.\n",
    "\n",
    "class Animal:\n",
    "    def __init__(self, name):\n",
    "        self.name = name\n",
    "\n",
    "    def make_sound(self):\n",
    "        print(\"Generic animal sound\")\n",
    "\n",
    "class Dog(Animal):\n",
    "    def __init__(self, name, breed):\n",
    "        super().__init__(name)  \n",
    "        self.breed = breed\n",
    "\n",
    "    def make_sound(self):\n",
    "        print(f\"{self.name} barks! Woof!\")\n",
    "\n",
    "my_animal = Animal(\"Generic\")\n",
    "my_dog = Dog(\"Buddy\", \"Golden Retriever\")\n",
    "\n",
    "my_animal.make_sound()  \n",
    "my_dog.make_sound()  \n",
    "\n",
    "\n",
    "# 2. Multilevel Inheritance:\n",
    "\n",
    "#In multilevel inheritance, a derived class inherits from another derived class,\n",
    "#which in turn inherits from a base class. This creates a chain of inheritance.\n",
    "\n",
    "class Vehicle:\n",
    "    def __init__(self, make, model):\n",
    "        self.make = make\n",
    "        self.model = model\n",
    "\n",
    "class Car(Vehicle):\n",
    "    def __init__(self, make, model, year):\n",
    "        super().__init__(make, model) \n",
    "        self.year = year\n",
    "\n",
    "class ElectricCar(Car):\n",
    "    def __init__(self, make, model, year, battery_range):\n",
    "        super().__init__(make, model, year) \n",
    "        self.battery_range = battery_range\n",
    "\n",
    "    def charge(self):\n",
    "        print(f\"{self.make} {self.model} is charging!\")\n",
    "\n",
    "my_electric_car = ElectricCar(\"Tesla\", \"Model S\", 2023, 400)\n",
    "\n",
    "my_electric_car.charge()\n",
    "print(my_electric_car.make, my_electric_car.model, my_electric_car.year) \n",
    "\n",
    "\n",
    "\n",
    "# 3. Multiple Inheritance:\n",
    "\n",
    "#In multiple inheritance, a derived class inherits from multiple base classes. This can become complex \n",
    "#and lead to ambiguity if both base classes have methods with the same name.\n",
    "\n",
    "\n",
    "class Trait1:\n",
    "    def do_something(self):\n",
    "        print(\"Doing something from Trait 1\")\n",
    "\n",
    "class Trait2:\n",
    "    def do_something(self): \n",
    "        print(\"Doing something from Trait 2\")\n",
    "\n",
    "class CombinedTrait(Trait1, Trait2):\n",
    "    pass \n",
    "\n",
    "\n",
    "combined = CombinedTrait()\n",
    "\n",
    "combined.do_something()  \n"
   ]
  },
  {
   "cell_type": "code",
   "execution_count": null,
   "id": "bac7e5f0",
   "metadata": {},
   "outputs": [],
   "source": []
  }
 ],
 "metadata": {
  "kernelspec": {
   "display_name": "Python 3",
   "language": "python",
   "name": "python3"
  },
  "language_info": {
   "codemirror_mode": {
    "name": "ipython",
    "version": 3
   },
   "file_extension": ".py",
   "mimetype": "text/x-python",
   "name": "python",
   "nbconvert_exporter": "python",
   "pygments_lexer": "ipython3",
   "version": "3.8.8"
  }
 },
 "nbformat": 4,
 "nbformat_minor": 5
}
